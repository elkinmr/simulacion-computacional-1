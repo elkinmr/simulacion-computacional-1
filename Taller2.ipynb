{
 "cells": [
  {
   "cell_type": "code",
   "execution_count": 1,
   "metadata": {},
   "outputs": [
    {
     "name": "stdout",
     "output_type": "stream",
     "text": [
      "Ingrese semilla xo: 7\n",
      "Ingrese valor de a : 5\n",
      "Ingrese valor de c : 3\n",
      "Ingrese valor de m : 16\n",
      "U 0  =  0.375\n",
      "U 1  =  0.0625\n",
      "U 2  =  0.5\n",
      "U 3  =  0.6875\n",
      "U 4  =  0.625\n",
      "U 5  =  0.3125\n",
      "U 6  =  0.75\n",
      "U 7  =  0.9375\n",
      "U 8  =  0.875\n",
      "U 9  =  0.5625\n",
      "U 10  =  0.0\n",
      "U 11  =  0.1875\n",
      "U 12  =  0.125\n",
      "U 13  =  0.8125\n",
      "U 14  =  0.25\n",
      "U 15  =  0.4375\n",
      "U 16  =  0.375\n",
      "Periodo = 16\n"
     ]
    }
   ],
   "source": [
    "#Generador congruencial mixto\n",
    "def obtenerValores():\n",
    "    xo = int(input(\"Ingrese semilla xo: \"))\n",
    "    a = int(input(\"Ingrese valor de a : \"))\n",
    "    c = int(input(\"Ingrese valor de c : \"))\n",
    "    m = int(input(\"Ingrese valor de m : \"))\n",
    "    generador(xo,a,c,m)\n",
    "    \n",
    "def generador(xo,a,c,m):\n",
    "    xn=xo\n",
    "    ui=list()\n",
    "    for i in range(0,m+1):\n",
    "        xn = (a*xn+c)%m\n",
    "        ui.append(xn/m)\n",
    "        print(\"U\",i,\" = \",xn/m)\n",
    "    calcular_ciclo(ui)\n",
    "\n",
    "def calcular_ciclo(lista):\n",
    "    primerValor=lista[0]\n",
    "    for j in range(1,len(lista)):\n",
    "        if primerValor==lista[j]:\n",
    "            print(\"Periodo =\",j)\n",
    "            break\n",
    "        \n",
    "if __name__ == \"__main__\":\n",
    "    obtenerValores()"
   ]
  },
  {
   "cell_type": "code",
   "execution_count": 2,
   "metadata": {},
   "outputs": [
    {
     "name": "stdout",
     "output_type": "stream",
     "text": [
      "Ingrese semilla: 1321\n",
      "Número aleatorio 0.7450\n"
     ]
    }
   ],
   "source": [
    "#Método de cuadrados medios (MidSquare)\n",
    "def semilla():\n",
    "    xo = (input(\"Ingrese semilla: \"))\n",
    "    verificarSemilla(xo)\n",
    "    \n",
    "def verificarSemilla(xo):\n",
    "    ui=list()\n",
    "    longitud1 = len(xo)\n",
    "\n",
    "    if longitud1%2==0:\n",
    "        cont=0\n",
    "        n=int(longitud1/2)\n",
    "        cuadrado=int(xo)**2\n",
    "        longitud2=len(str(cuadrado))\n",
    "        lista=list(str(cuadrado))\n",
    "        mitad=int(len(lista)/2)\n",
    "        aux=lista[mitad-n:mitad+n]\n",
    "        x1='0.'+''.join(aux)\n",
    "        ui.append(float(x1))\n",
    "        print (\"Número aleatorio {}\".format(x1))\n",
    "        #verificarSemilla(''.join(aux))\n",
    "    else:\n",
    "        print(\"Ingrese semilla válida\")\n",
    "        semilla()\n",
    "        \n",
    "if __name__ == \"__main__\":\n",
    "    semilla()"
   ]
  },
  {
   "cell_type": "code",
   "execution_count": 3,
   "metadata": {
    "collapsed": true
   },
   "outputs": [],
   "source": [
    "def calcular_ciclo(lista): #función que calcula el ciclo de un generador de números pseudoaleatorios\n",
    "    primerValor=lista[0] #se guarda el primer número aleatorio de la lista que se recibe por parametro\n",
    "    for j in range(1,len(lista)): #se itera la lista\n",
    "        if primerValor==lista[j]: #hasta encontrar nuevamente el mismo número en la lista\n",
    "            print(\"Periodo =\",j) #si se encuentra se toma el periodo como la cantidad de veces iterada la lista\n",
    "            break                #y se rompe el ciclo"
   ]
  }
 ],
 "metadata": {
  "kernelspec": {
   "display_name": "Python 3",
   "language": "python",
   "name": "python3"
  },
  "language_info": {
   "codemirror_mode": {
    "name": "ipython",
    "version": 3
   },
   "file_extension": ".py",
   "mimetype": "text/x-python",
   "name": "python",
   "nbconvert_exporter": "python",
   "pygments_lexer": "ipython3",
   "version": "3.6.3"
  }
 },
 "nbformat": 4,
 "nbformat_minor": 2
}
