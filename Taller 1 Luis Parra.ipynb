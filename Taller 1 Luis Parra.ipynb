{
 "cells": [
  {
   "cell_type": "markdown",
   "metadata": {},
   "source": [
    "1). Si $x_0 = 5$ y $x_n = 3x_{n−1}$ mod $150$, determine $x_1, . . . , x_{10}$.<br>\n",
    "2). Si $x_0 = 3$ y $x_n = 5x_{n−1}+7$ mod $200$, determine $x_1, . . . , x_{10}$."
   ]
  },
  {
   "cell_type": "code",
   "execution_count": 1,
   "metadata": {},
   "outputs": [
    {
     "name": "stdout",
     "output_type": "stream",
     "text": [
      "1.\n",
      "\n",
      "x1 = 15\n",
      "x2 = 45\n",
      "x3 = 135\n",
      "x4 = 105\n",
      "x5 = 15\n",
      "x6 = 45\n",
      "x7 = 135\n",
      "x8 = 105\n",
      "x9 = 15\n",
      "x10 = 45\n",
      "\n",
      " 2. \n",
      "\n",
      "x1 = 22\n",
      "x2 = 117\n",
      "x3 = 192\n",
      "x4 = 167\n",
      "x5 = 42\n",
      "x6 = 17\n",
      "x7 = 92\n",
      "x8 = 67\n",
      "x9 = 142\n",
      "x10 = 117\n"
     ]
    }
   ],
   "source": [
    "#1 y 2\n",
    "from datetime import datetime\n",
    "def generador1(xo,a,c,m,n):\n",
    "    xn=xo\n",
    "    ui=list()\n",
    "    for i in range(n):\n",
    "        xn = (a*xn+c)%m\n",
    "        ui.append(xn/m)\n",
    "    return ui\n",
    "    \n",
    "def generador2():\n",
    "    xo = datetime.now().microsecond\n",
    "    a=25214903917 \n",
    "    c=11\n",
    "    m=(2**48)-1\n",
    "    xn=xo\n",
    "    for i in range(0,1):\n",
    "        xn = (a*xn+c)%m\n",
    "    return xn/m\n",
    "\n",
    "def generador3(xo,a,c,m,n):\n",
    "    xn=xo\n",
    "    xi=list()\n",
    "    for i in range(n):\n",
    "        xn = (a*xn+c)%m\n",
    "        xi.append(xn)\n",
    "    return xi\n",
    "\n",
    "def imprimir(lista):\n",
    "    for j in range (len(lista)):\n",
    "        print(\"x{} = {}\".format(j+1,lista[j]))\n",
    "        \n",
    "if __name__ == \"__main__\":\n",
    "    print(\"1.\\n\")\n",
    "    lista1 = generador3(5,3,0,150,10)\n",
    "    imprimir(lista1)\n",
    "    print(\"\\n 2. \\n\")\n",
    "    lista2 = generador3(3,5,7,200,10)\n",
    "    imprimir(lista2)"
   ]
  },
  {
   "cell_type": "markdown",
   "metadata": {},
   "source": [
    "3). Escriba un programa para generar $n$ valores a partir de la funcion de masa de probabilidad $p_1 = 1/3, p_2 = 2/3$ <br>\n",
    "(a) Sea $n = 100$, ejecute el programa y determine la proporcion de valores que sean iguales a 1.<br>\n",
    "(b) Repita (a) con $n = 1000$.<br>\n",
    "(c) Repita (a) con $n = 10000$.<br>"
   ]
  },
  {
   "cell_type": "code",
   "execution_count": 2,
   "metadata": {},
   "outputs": [
    {
     "name": "stdout",
     "output_type": "stream",
     "text": [
      "Valores iguales a 1 con n=100:  34\n",
      "Valores iguales a 1 con n=1000:  339\n",
      "Valores iguales a 1 con n=10000:  3357\n"
     ]
    }
   ],
   "source": [
    "#3\n",
    "from datetime import datetime\n",
    "import time\n",
    "\n",
    "vaX = [1,2]\n",
    "px = [1/3, 2/3]\n",
    "\n",
    "def acumulada(pj):\n",
    "    aux=0\n",
    "    Pj=[0]\n",
    "    for j in range(len(pj)):\n",
    "        aux+=pj[j]\n",
    "        Pj.append(aux)\n",
    "    return Pj\n",
    "\n",
    "def ejercicio3(n):\n",
    "    cont = 0\n",
    "    acu = acumulada(px)\n",
    "    xo = datetime.now().microsecond\n",
    "    ui = generador1(xo, 25214903917, 11, (2**48)-1, n)\n",
    "    for i in range(n):\n",
    "        for j in range (1,len(acu)):\n",
    "            if ui[i]>=acu[j-1] and ui[i]<acu[j]:\n",
    "                if j==1: cont+=1\n",
    "    return cont\n",
    "\n",
    "if __name__ == \"__main__\":\n",
    "    r1 = ejercicio3(100)\n",
    "    print(\"Valores iguales a 1 con n=100: \", r1)\n",
    "    r2 = ejercicio3(1000)\n",
    "    print(\"Valores iguales a 1 con n=1000: \", r2)\n",
    "    r3 = ejercicio3(10000)\n",
    "    print(\"Valores iguales a 1 con n=10000: \", r3)"
   ]
  },
  {
   "cell_type": "markdown",
   "metadata": {},
   "source": [
    "4). Emplee la simulacion para aproximar las siguientes integrales. Compare su estimacion con la respuesta exacta, si  ́esta se conoce.<br>\n",
    "(a) $\\int_{0}^{1} exp(e^{x})dx$<br>\n",
    "Respuesta exacta: $\\int_0^1 e^{e^x} dx = Ei(e) - Ei(1)≈6.31656$<br>\n",
    "(b) $\\int_{0}^{1} (1-x^2)^{3/2}dx$<br>\n",
    "Respuesta exacta: $\\int_0^1 (1 - x^2)^{3/2} dx = 3 π/16≈0.58905$<br>\n",
    "(c) $\\int_{-2}^{2} e^{x+x^2}dx$<br>\n",
    "Respuesta exacta: $\\int_{-2}^{2} e^{x + x^2} dx = \\frac{\\sqrtπ (erfi(3/2) + erfi(5/2))}{2 e^{1/4}}≈93.1628$<br>\n",
    "(d) $\\int_0^∞ {x}{{(1 + x^2)}^{-2}} dx$<br>\n",
    "Respuesta exacta: $\\int_0^∞ \\frac{x}{{(1 + x^2)}^2} dx = \\frac{1}{2} = 0.5$<br>\n",
    "(e) $\\int_{-∞}^{∞} e^{-x^2} dx$<br>\n",
    "Respuesta exacta: $\\int_{-∞}^{∞} e^{-x^2} dx = \\sqrt{π}≈1.77245$<br>\n",
    "(f) $\\int_0^1 \\int_0^1 e^{(x + y)^2} dy dx$<br>\n",
    "Respuesta exacta: $\\int_0^1 \\int_0^1 e^{(x + y)^2} dy dx = 4.89916$"
   ]
  },
  {
   "cell_type": "code",
   "execution_count": 3,
   "metadata": {},
   "outputs": [
    {
     "name": "stdout",
     "output_type": "stream",
     "text": [
      "a. \n",
      "\n",
      "Aproximación método MonteCarlo :  6.306731580976521\n",
      "Respuesta exacta ≈ 6.31656\n",
      "b. \n",
      "\n",
      "Aproximación método MonteCarlo :  0.5840266600369178\n",
      "Respuesta exacta ≈ 0.58905\n",
      "c. \n",
      "\n",
      "Aproximación método MonteCarlo :  95.33334783604666\n",
      "Respuesta exacta ≈ 93.1628\n",
      "d. \n",
      "\n",
      "Aproximación método MonteCarlo :  0.4871663170040502\n",
      "Respuesta exacta = 0.5\n",
      "e. \n",
      "\n",
      "Aproximación método MonteCarlo :  1.770677215480011\n",
      "Respuesta exacta ≈ 1.77245\n",
      "f. \n",
      "\n",
      "Aproximación método MonteCarlo :  4.933008433139574\n",
      "Respuesta exacta ≈ 4.89916\n"
     ]
    }
   ],
   "source": [
    "#a\n",
    "import math\n",
    "import time\n",
    "from random import random\n",
    "def integralA():\n",
    "    a = 0\n",
    "    b = 1\n",
    "    suma = 0\n",
    "    n = 10000\n",
    "    xo = datetime.now().microsecond\n",
    "    ui = generador1(xo, 25214903917, 11, (2**48)-1, n)\n",
    "    for i in range(n):\n",
    "        xi = ui[i]*(b-a)+a\n",
    "        y = (b-a)*math.exp(math.exp(xi))\n",
    "        suma+=y\n",
    "    print(\"a. \\n\")\n",
    "    print(\"Aproximación método MonteCarlo : \",suma/n)\n",
    "    print(\"Respuesta exacta ≈\", 6.31656)\n",
    "\n",
    "#b\n",
    "def integralB():\n",
    "    a = 0\n",
    "    b = 1\n",
    "    suma = 0\n",
    "    n = 10000\n",
    "    xo = datetime.now().microsecond\n",
    "    ui = generador1(xo, 25214903917, 11, (2**48)-1, n)\n",
    "    for i in range(n):\n",
    "        xi = ui[i]*(b-a)+a\n",
    "        y = (b-a)*(1-xi**2)**(3/2)\n",
    "        suma+=y\n",
    "    print(\"b. \\n\")\n",
    "    print(\"Aproximación método MonteCarlo : \",suma/n)\n",
    "    print(\"Respuesta exacta ≈\", 0.58905)\n",
    "\n",
    "#c    \n",
    "def integralC():\n",
    "    a = -2\n",
    "    b = 2\n",
    "    suma = 0\n",
    "    n = 10000\n",
    "    xo = datetime.now().microsecond\n",
    "    ui = generador1(xo, 25214903917, 11, (2**48)-1, n)\n",
    "    for i in range(n):\n",
    "        xi = ui[i]*(b-a)+a\n",
    "        y = (b-a)*math.exp(xi+xi**2)\n",
    "        suma+=y\n",
    "    print(\"c. \\n\")\n",
    "    print(\"Aproximación método MonteCarlo : \",suma/n)\n",
    "    print(\"Respuesta exacta ≈\", 93.1628)\n",
    "\n",
    "#d\n",
    "def integralD():\n",
    "    a = 0\n",
    "    b = 6\n",
    "    suma = 0\n",
    "    n = 10000\n",
    "    xo = datetime.now().microsecond\n",
    "    ui = generador1(xo, 25214903917, 11, (2**48)-1, n)\n",
    "    for i in range(n):\n",
    "        xi = ui[i]*(b-a)+a\n",
    "        y = (b-a)*xi*(1+xi**2)**-2\n",
    "        suma+=y\n",
    "    print(\"d. \\n\")\n",
    "    print(\"Aproximación método MonteCarlo : \",suma/n)\n",
    "    print(\"Respuesta exacta =\", 0.5)\n",
    "    \n",
    "#e\n",
    "def integralE():\n",
    "    a = -3\n",
    "    b = 3\n",
    "    suma = 0\n",
    "    n = 10000\n",
    "    xo = datetime.now().microsecond\n",
    "    ui = generador1(xo, 25214903917, 11, (2**48)-1, n)\n",
    "    for i in range(n):\n",
    "        xi = ui[i]*(b-a)+a\n",
    "        y = (b-a)*math.exp(-xi**2)\n",
    "        suma+=y\n",
    "    print(\"e. \\n\")\n",
    "    print(\"Aproximación método MonteCarlo : \",suma/n)\n",
    "    print(\"Respuesta exacta ≈\", 1.77245)\n",
    "    \n",
    "#f\n",
    "def integralF():\n",
    "    a = 0\n",
    "    b = 1\n",
    "    suma = 0\n",
    "    n = 10000\n",
    "    xo = datetime.now().microsecond\n",
    "    ua = generador1(xo, 25214903917, 11, (2**48)-1, n)\n",
    "    time.sleep(0.0001)\n",
    "    xo = datetime.now().microsecond\n",
    "    ub = generador1(xo, 25214903917, 11, (2**48)-1, n)\n",
    "    for i in range(n):\n",
    "        xi = ua[i]*(b-a)+a\n",
    "        yi = ub[i]*(b-a)+a\n",
    "        theta = math.e**(xi+yi)**2\n",
    "        suma+=theta\n",
    "    print(\"f. \\n\")\n",
    "    print(\"Aproximación método MonteCarlo : \",suma/n)\n",
    "    print(\"Respuesta exacta ≈\", 4.89916)\n",
    "    \n",
    "if __name__ == \"__main__\":\n",
    "    integralA()\n",
    "    integralB()\n",
    "    integralC()\n",
    "    integralD()\n",
    "    integralE()\n",
    "    integralF()"
   ]
  },
  {
   "cell_type": "markdown",
   "metadata": {},
   "source": [
    "5). Implemente el método de la transformada inversa para generación de variables aleatorias discretas con un ejemplo para los siguientes casos:<br>\n",
    "(a) Poisson<br>\n",
    "(b) Binomial<br>\n",
    "(c) Técnica de aceptación y rechazo<br>\n",
    "(d) Metodo de composición"
   ]
  },
  {
   "cell_type": "code",
   "execution_count": 4,
   "metadata": {},
   "outputs": [
    {
     "name": "stdout",
     "output_type": "stream",
     "text": [
      "a.\n",
      "La variable aleatoria de Poisson es :  11 para lambda (λ) : 10\n"
     ]
    }
   ],
   "source": [
    "#a Generación variable aleatoria Poisson\n",
    "import math\n",
    "from datetime import datetime\n",
    "\n",
    "def vaPoisson(lamb):\n",
    "    U = generador2()\n",
    "    i = 0\n",
    "    vaX = 0\n",
    "    p = math.exp(-lamb)\n",
    "    F = p\n",
    "    while True:\n",
    "        if U<F:\n",
    "            vaX = i\n",
    "            break\n",
    "        else:\n",
    "            p = (lamb*p)/(i+1)\n",
    "            F = F + p\n",
    "            i = i + 1\n",
    "    return vaX\n",
    "\n",
    "if __name__ == \"__main__\":\n",
    "    lambda1 = 10\n",
    "    #lambda1 = int(input(\"Ingrese valor de lambda (λ): \"))\n",
    "    result = vaPoisson(lambda1)\n",
    "    print(\"a.\\nLa variable aleatoria de Poisson es : \",result, \"para lambda (λ) :\",lambda1)"
   ]
  },
  {
   "cell_type": "code",
   "execution_count": 5,
   "metadata": {},
   "outputs": [
    {
     "name": "stdout",
     "output_type": "stream",
     "text": [
      "La variable aleatoria de Binomial es :  16\n"
     ]
    }
   ],
   "source": [
    "#b Generación de una variable aleatoria binomial\n",
    "from datetime import datetime\n",
    "def vaBinomial(n,p):\n",
    "    U = generador2()\n",
    "    i = 0\n",
    "    c = p/(1-p)\n",
    "    pr = (1-p)**n\n",
    "    F = pr\n",
    "    vaX = 0\n",
    "    while True:\n",
    "        if U<F:\n",
    "            vaX = i\n",
    "            break\n",
    "        else:\n",
    "            pr = (c*(n-i)/(i+1))*pr\n",
    "            F = F+pr\n",
    "            i = i+1\n",
    "    return vaX\n",
    "\n",
    "if __name__ == \"__main__\":\n",
    "    #n = int(input(\"Ingrese valor de n: \"))\n",
    "    #p = float(input(\"Ingrese valor de p (0-1): \"))\n",
    "    n = 40\n",
    "    p = 0.5\n",
    "    result = vaBinomial(n,p)\n",
    "    print(\"La variable aleatoria de Binomial es : \",result)"
   ]
  },
  {
   "cell_type": "code",
   "execution_count": 6,
   "metadata": {},
   "outputs": [
    {
     "name": "stdout",
     "output_type": "stream",
     "text": [
      "La variable aleatoria generada es:  2\n"
     ]
    }
   ],
   "source": [
    "#c Método de aceptación y rechazo\n",
    "vaX = [1,2,3,4,5,6,7,8,9,10]\n",
    "pj = [0.11, 0.12, 0.09, 0.08, 0.12, 0.10, 0.09, 0.09, 0.10, 0.10]\n",
    "qj = [0.1, 0.1, 0.1, 0.1, 0.1, 0.1, 0.1, 0.1, 0.1, 0.1]\n",
    "\n",
    "def maxDivision(listA, listB):\n",
    "    division = []\n",
    "    for i in range(len(listA)):\n",
    "        division.append(listA[i]/listB[i])\n",
    "    return max(division)\n",
    "\n",
    "def aceptacionRechazo():\n",
    "    U1 = generador2()\n",
    "    Y = int(10*U1)\n",
    "    Y = Y + 1\n",
    "    c = maxDivision(pj,qj) # c = max de pj/qj\n",
    "    consta = c*qj[0]\n",
    "    time.sleep(0.0015)\n",
    "    U2 = generador2()\n",
    "    if U2<=pj[Y-1]/consta:\n",
    "        X = Y\n",
    "        print(\"La variable aleatoria generada es: \",X)\n",
    "    else:\n",
    "        aceptacionRechazo()\n",
    "        \n",
    "            \n",
    "if __name__ == \"__main__\":\n",
    "    aceptacionRechazo()"
   ]
  },
  {
   "cell_type": "code",
   "execution_count": 7,
   "metadata": {},
   "outputs": [
    {
     "name": "stdout",
     "output_type": "stream",
     "text": [
      "La variable aleatoria generada es:  6\n"
     ]
    }
   ],
   "source": [
    "#d Método de Composición\n",
    "def metodoComposicion():\n",
    "    U1 = generador2()\n",
    "    time.sleep(0.0015)\n",
    "    U2 = generador2()\n",
    "    if U1<0.5:\n",
    "        return (int(10*U2)+1)\n",
    "    else:\n",
    "        return (int(5*U2)+6)\n",
    "    \n",
    "if __name__ == \"__main__\":\n",
    "    result = metodoComposicion()\n",
    "    print(\"La variable aleatoria generada es: \", result)"
   ]
  },
  {
   "cell_type": "markdown",
   "metadata": {},
   "source": [
    "6). Se baraja un conjunto un conjunto de 100 cartas (enumeradas del 1 al 100) y luego se voltean, una a la vez. Decimos que ocurre un \"éxito\" si la carta $i$ es la $i$-ésima carta volteada, $i = 1, ....., 100$.<br>\n",
    "\n",
    "(a) Escriba un programa de simulación para estimar la esperanza y la varianza del numero total de exitos.<br>\n",
    "\n",
    "(b) Ejecute el programa y determine las repuestas exactas y comparelas con sus estimaciones."
   ]
  },
  {
   "cell_type": "code",
   "execution_count": 8,
   "metadata": {},
   "outputs": [
    {
     "name": "stdout",
     "output_type": "stream",
     "text": [
      "\n",
      "a. \n",
      "Éxitos :  1\n",
      "Esperanza éxitos:  1.0\n",
      "Varianza éxitos:  0.99\n",
      "b.\n",
      "Esperanza éxitos:  0.3678794411714424\n",
      "Varianza éxitos:  0.3665260883390763\n"
     ]
    }
   ],
   "source": [
    "#import random\n",
    "import math\n",
    "nCartas = 100\n",
    "cartas = [i for i in range(1,nCartas+1)]\n",
    "pj = [1/100 for j in range(100)]\n",
    "baraja = []\n",
    "acum = acumulada(pj)\n",
    "pExitoS = 0\n",
    "pExitoT = 0\n",
    "\n",
    "def barajar():\n",
    "    cartasb = cartas\n",
    "    while len(cartasb) > 0:\n",
    "        tama = len(cartasb)\n",
    "        time.sleep(0.0001)\n",
    "        U1 = generador2()\n",
    "        num = int((U1*tama)+1)\n",
    "        carta = cartasb[num-1]\n",
    "        baraja.append(carta)\n",
    "        cartasb.remove(carta)\n",
    "    #print(baraja)\n",
    "    \n",
    "def contarExitos():\n",
    "    suma = 0\n",
    "    exitos = 0\n",
    "    for j in range(1,nCartas+1):\n",
    "        if j==baraja[j-1]:\n",
    "            exitos+=1\n",
    "    \n",
    "    for j in range(nCartas):\n",
    "        suma+=(-1)**j/(math.factorial(j)*nCartas)\n",
    "    \n",
    "    print(\"\\na. \\nÉxitos : \",exitos)\n",
    "    pExitoS = exitos/nCartas\n",
    "    print(\"Esperanza éxitos: \", nCartas*pExitoS)\n",
    "    print(\"Varianza éxitos: \", nCartas*pExitoS*(1-pExitoS))\n",
    "    \n",
    "    print(\"b.\")\n",
    "    print(\"Esperanza éxitos: \", suma*nCartas)\n",
    "    print(\"Varianza éxitos: \", nCartas*suma*(1-suma))\n",
    "    \n",
    "if __name__ == \"__main__\":\n",
    "    barajar()\n",
    "    contarExitos()"
   ]
  },
  {
   "cell_type": "markdown",
   "metadata": {},
   "source": [
    "7). Aplique la prueba de Kolmogorov-Smirnov para comprobar si los siguientes generadores garantizan uniformidad:<br>\n",
    "(a) $x_0 = 7$ y $x_n = 5x_{n−1}$  $mod$  $150$, generando $n = 1000$ numeros.<br>\n",
    "(b) $x_0 = 3$ y $x_n = 157x_{n−1} + 1$  $mod$  $2^{31}$, generando $n = 1000$ numeros.<br>\n",
    "(c) $x_0 = 3$ y $x_n = 22695477x_{n−1} + 1$  $mod$  $2^{32}$, generando $n = 1000$ numeros."
   ]
  },
  {
   "cell_type": "code",
   "execution_count": 9,
   "metadata": {},
   "outputs": [
    {
     "name": "stdout",
     "output_type": "stream",
     "text": [
      "Diferencia máxima enciso a =  0.333665865706\n",
      "Este generador no garantiza la uniformidad\n"
     ]
    },
    {
     "data": {
      "image/png": "[encoded data removed]",
      "text/plain": [
       "<matplotlib.figure.Figure at 0x20017de7f98>"
      ]
     },
     "metadata": {},
     "output_type": "display_data"
    },
    {
     "name": "stdout",
     "output_type": "stream",
     "text": [
      "Diferencia máxima enciso b =  0.239519804267\n",
      "Este generador no garantiza la uniformidad\n"
     ]
    },
    {
     "data": {
      "image/png": "[encoded data removed]",
      "text/plain": [
       "<matplotlib.figure.Figure at 0x20018880ba8>"
      ]
     },
     "metadata": {},
     "output_type": "display_data"
    },
    {
     "name": "stdout",
     "output_type": "stream",
     "text": [
      "Diferencia máxima enciso c =  0.2531231297\n",
      "Este generador no garantiza la uniformidad\n"
     ]
    },
    {
     "data": {
      "image/png": "[encoded data removed]",
      "text/plain": [
       "<matplotlib.figure.Figure at 0x20018e0d4a8>"
      ]
     },
     "metadata": {},
     "output_type": "display_data"
    }
   ],
   "source": [
    "import numpy as np\n",
    "import matplotlib.pyplot as plt\n",
    "from scipy import stats\n",
    "\n",
    "plt1 = plt\n",
    "plt2 = plt\n",
    "plt3 = plt\n",
    "\n",
    "N = 1000\n",
    "calfa = 1.36/(N**(1/2))\n",
    "\n",
    "u = [1.0]*N #valor teórico\n",
    "\n",
    "xa = generador1(7,5,0,150,N)\n",
    "xb = generador1(3,157,1,2**31,N)\n",
    "xc = generador1(3,22695477,1,2**32,N)\n",
    "\n",
    "xu = np.arange(1/N,1+1/N,1/N) #x1\n",
    "yu = np.cumsum(np.sort(u)/np.max(np.cumsum(u))) #y1\n",
    "\n",
    "xa1 = np.sort(xa) #x2\n",
    "ya2 = np.cumsum(np.sort(xa)/np.max(np.cumsum(xa))) #y2\n",
    "\n",
    "xb1 = np.sort(xb)\n",
    "yb2 = np.cumsum(np.sort(xb)/np.max(np.cumsum(xb)))\n",
    "\n",
    "xc1 = np.sort(xc)\n",
    "yc2 = np.cumsum(np.sort(xc)/np.max(np.cumsum(xc)))\n",
    "\n",
    "De1=np.absolute(ya2-yu)\n",
    "print(\"Diferencia máxima enciso a = \",np.max(De1))\n",
    "if np.max(De1)>calfa: print(\"Este generador no garantiza la uniformidad\")\n",
    "else: print(\"Este generador sí garantiza la uniformidad\")\n",
    "\n",
    "\n",
    "# Plotting\n",
    "plt1.plot(xu,yu,label='Teórica')\n",
    "plt1.step(xa1,ya2,label='Generada') #De.argmax() devuelve la posición del valor + grande (resta de y2-y1 o De)\n",
    "reca1 = [xu[De1.argmax()],xu[De1.argmax()]] #valores de x1[] usando De.argmax(), el mismo por ser recta\n",
    "reca2 = [np.min([yu[De1.argmax()],ya2[De1.argmax()]]),np.max([yu[De1.argmax()],ya2[De1.argmax()]])]\n",
    "plt1.step(reca1,reca2,label='D') #escoge el mínimo y máximo de y1,y2 para formar pareja con los puntos x3\n",
    "\n",
    "plt1.legend()\n",
    "plt1.xlabel('X')\n",
    "plt1.ylabel('Probabilidad Acumulada P(X)')\n",
    "\n",
    "plt1.ylim(0, 1.05)\n",
    "plt1.show()\n",
    "#**********************************************************************\n",
    "De2=np.absolute(yb2-yu)\n",
    "print(\"Diferencia máxima enciso b = \",np.max(De2))\n",
    "if np.max(De2)>calfa: print(\"Este generador no garantiza la uniformidad\")\n",
    "else: print(\"Este generador sí garantiza la uniformidad\")\n",
    "\n",
    "plt2.plot(xu,yu,label='Teórica')\n",
    "plt2.step(xb1,yb2,label='Generada') #De.argmax() devuelve la posición del valor + grande (resta de y2-y1 o De)\n",
    "recb1 = [xu[De1.argmax()],xu[De1.argmax()]] #valores de x1[] usando De.argmax(), el mismo por ser recta\n",
    "recb2 = [np.min([yu[De2.argmax()],yb2[De1.argmax()]]),np.max([yu[De2.argmax()],yb2[De1.argmax()]])]\n",
    "plt2.step(recb1,recb2,label='D') #escoge el mínimo y máximo de y1,y2 para formar pareja con los puntos x3\n",
    "\n",
    "plt2.legend()\n",
    "plt2.xlabel('X')\n",
    "plt2.ylabel('Probabilidad Acumulada P(X)')\n",
    "\n",
    "plt2.ylim(0, 1.05)\n",
    "plt2.show()\n",
    "#********************************************************************\n",
    "De3=np.absolute(yc2-yu)\n",
    "print(\"Diferencia máxima enciso c = \",np.max(De3))\n",
    "if np.max(De3)>calfa: print(\"Este generador no garantiza la uniformidad\")\n",
    "else: print(\"Este generador sí garantiza la uniformidad\")\n",
    "\n",
    "plt3.plot(xu,yu,label='Teórica')\n",
    "plt3.step(xc1,yc2,label='Generada') #De.argmax() devuelve la posición del valor + grande (resta de y2-y1 o De)\n",
    "recc1 = [xu[De3.argmax()],xu[De3.argmax()]] #valores de x1[] usando De.argmax(), el mismo por ser recta\n",
    "recc2 = [np.min([yu[De3.argmax()],yc2[De3.argmax()]]),np.max([yu[De3.argmax()],yc2[De3.argmax()]])]\n",
    "plt3.step(recc1,recc2,label='D') #escoge el mínimo y máximo de y1,y2 para formar pareja con los puntos x3\n",
    "\n",
    "plt3.legend()\n",
    "plt3.xlabel('X')\n",
    "plt3.ylabel('Probabilidad Acumulada P(X)')\n",
    "\n",
    "plt3.ylim(0, 1.05)\n",
    "plt3.show()"
   ]
  },
  {
   "cell_type": "markdown",
   "metadata": {},
   "source": [
    "8). Aplique la prueba de $χ^{2}$ para comprobar si los tres generadores congruenciales del punto 7 garantizan uniformidad."
   ]
  },
  {
   "cell_type": "code",
   "execution_count": 10,
   "metadata": {},
   "outputs": [
    {
     "name": "stdout",
     "output_type": "stream",
     "text": [
      "El generador (a)  No garantiza la uniformidad\n",
      "El generador (b)  Sí garantiza la uniformidad\n",
      "El generador (c)  Sí garantiza la uniformidad\n"
     ]
    },
    {
     "data": {
      "text/plain": [
       "<matplotlib.figure.Figure at 0x20016dcdfd0>"
      ]
     },
     "metadata": {},
     "output_type": "display_data"
    }
   ],
   "source": [
    "import matplotlib.pyplot as plt\n",
    "%matplotlib inline\n",
    "k = 10\n",
    "N = 1000\n",
    "\n",
    "ei = N/k\n",
    "grados = k-1\n",
    "tabla = 16.919\n",
    "\n",
    "def chi_cuadrado (x):\n",
    "    frecuencias, separa, aux = plt.hist(x, k, normed=False)\n",
    "    plt.clf()\n",
    "    suma = 0\n",
    "    \n",
    "    for m in range(1,k+1):\n",
    "        suma+=(frecuencias[m-1]-ei)**2/ei\n",
    "    \n",
    "    if suma<tabla:\n",
    "        return \"Sí\"\n",
    "    else:\n",
    "        return \"No\"\n",
    "\n",
    "if __name__ == \"__main__\":\n",
    "    xa = generador1(7,5,0,150,N)\n",
    "    ra = chi_cuadrado(xa)\n",
    "    print(\"El generador (a) \", ra, \"garantiza la uniformidad\")\n",
    "    xb = generador1(3,157,1,2**31,N)\n",
    "    rb = chi_cuadrado(xb)\n",
    "    print(\"El generador (b) \", rb, \"garantiza la uniformidad\")\n",
    "    xc = generador1(3,22695477,1,2**32,N)\n",
    "    rc = chi_cuadrado(xc)\n",
    "    print(\"El generador (c) \", rc, \"garantiza la uniformidad\")"
   ]
  },
  {
   "cell_type": "markdown",
   "metadata": {},
   "source": [
    "9). Aplique el test de rachas a cada uno de los tres generadores congruenciales del punto 7, para evaluar si cumplen con el criterio de aleatoriedad."
   ]
  },
  {
   "cell_type": "code",
   "execution_count": 11,
   "metadata": {},
   "outputs": [
    {
     "name": "stdout",
     "output_type": "stream",
     "text": [
      "Este generador no cumple criterio de aleatoriedad\n",
      "Este generador no cumple criterio de aleatoriedad\n",
      "Este generador no cumple criterio de aleatoriedad\n"
     ]
    }
   ],
   "source": [
    "N = 1000\n",
    "Zalfa2 = 1.960\n",
    "#http://www.vaxasoftware.com/doc_edu/mat/dnormal.pdf\n",
    "def testRachas (x):\n",
    "    sucesion = \"\"    \n",
    "    for i in range(N-1):\n",
    "        if x[i]<x[i+1]:\n",
    "            sucesion+=\"1\"\n",
    "        else:\n",
    "            sucesion+=\"0\"\n",
    "    return sucesion\n",
    "    \n",
    "def contarRachas(s):\n",
    "    rachas = 0\n",
    "    unos = False\n",
    "    ceros = False\n",
    "    n1 = 0 #unos\n",
    "    n2 = 0 #ceros\n",
    "    for j in range(len(s)):\n",
    "        if s[j]==\"1\":\n",
    "            n1+=1            \n",
    "            if unos==False:\n",
    "                rachas+=1\n",
    "                unos = True\n",
    "                ceros = False            \n",
    "        else:\n",
    "            n2+=1            \n",
    "            if ceros==False:\n",
    "                rachas+=1\n",
    "                ceros = True\n",
    "                unos = False\n",
    "    return [n1,n2,rachas]\n",
    "\n",
    "def estadistico(lista):\n",
    "    n1 = lista[0]\n",
    "    n2 = lista[1]\n",
    "    R = lista[2]\n",
    "    n = n1+n2\n",
    "    Z = ((R - ((2*n)-1))/3)/(math.sqrt((16*n-29)/90))\n",
    "\n",
    "    if abs(Z)>Zalfa2: print(\"Este generador no cumple criterio de aleatoriedad\")\n",
    "    else: print(\"Este generador sí cumple criterio de aleatoriedad\")\n",
    "    \n",
    "if __name__ == \"__main__\":\n",
    "    xa = generador1(7,5,0,150,N)\n",
    "    s1 = testRachas(xa)\n",
    "    R1 = contarRachas(s1)\n",
    "    estadistico(R1)\n",
    "    \n",
    "    xb = generador1(3,157,1,2**31,N)\n",
    "    s2 = testRachas(xb)\n",
    "    R2 = contarRachas(s2)\n",
    "    estadistico(R2)\n",
    "    \n",
    "    xc = generador1(3,22695477,1,2**32,N)\n",
    "    s3 = testRachas(xc)\n",
    "    R3 = contarRachas(s3)\n",
    "    estadistico(R3)"
   ]
  },
  {
   "cell_type": "markdown",
   "metadata": {},
   "source": [
    "10). Utilizando el metodo de Monte Carlo, y tomando como base el ejemplo del calculo del área del circulo visto en clase:<br>\n",
    "(a) Implemente el metodo de Monte Carlo para calcular y mostrar el  ́area estimada de una elipse con un semieje mayor $a = 5$ y semieje menor $b = 3$ centrado en el origen $x, y = (0, 0)$ generando 1000 coordenadas aleatorias $(X, Y)$ en el rango de\n",
    "$X = [−a, a]$ y $Y = [−b, b]$.<br>\n",
    "(b) Calcule el area real de la elipse.<br>\n",
    "(c) Calcule la diferencia entre el área real y el área estimada de la elipse con el método de Monte Carlo<br>\n",
    "(d) Grafique los puntos aleatorios generados que caen dentro de la elipse en rojo y los que caen fuera de la elipse en azul."
   ]
  },
  {
   "cell_type": "code",
   "execution_count": 12,
   "metadata": {},
   "outputs": [
    {
     "name": "stdout",
     "output_type": "stream",
     "text": [
      "a. \n",
      "Área estimada elipse MC:  46.92\n",
      "b. \n",
      "Área real de la elipse:  47.12388980384689\n",
      "c. \n",
      "Diferencia área real y estimada:  0.20388980384689148\n",
      "d. \n",
      "Gráfica: \n"
     ]
    },
    {
     "data": {
      "image/png": "[encoded data removed]",
      "text/plain": [
       "<matplotlib.figure.Figure at 0x20019f0d2b0>"
      ]
     },
     "metadata": {},
     "output_type": "display_data"
    }
   ],
   "source": [
    "import math\n",
    "import matplotlib.pyplot as plt\n",
    "\n",
    "pDentroX = []\n",
    "pDentroY = []\n",
    "pFueraX = []\n",
    "pFueraY = []\n",
    "\n",
    "def areaElipse ():\n",
    "    a = 5\n",
    "    b = 3\n",
    "    suma = 0\n",
    "    n = 1000\n",
    "    areaReal = math.pi*a*b\n",
    "    xo = datetime.now().microsecond\n",
    "    Ua = generador1(xo, 25214903917, 11, (2**48)-1, n)\n",
    "    time.sleep(0.0015)\n",
    "    xo = datetime.now().microsecond\n",
    "    Ub = generador1(xo, 25214903917, 11, (2**48)-1, n)\n",
    "    \n",
    "    for i in range(n):\n",
    "        xi = 10*Ua[i]-a\n",
    "        yi = 6*Ub[i]-b\n",
    "        if (xi**2/a**2)+(yi**2/b**2)<=1:\n",
    "            suma+=1\n",
    "            pDentroX.append(xi)\n",
    "            pDentroY.append(yi)\n",
    "        else:\n",
    "            pFueraX.append(xi)\n",
    "            pFueraY.append(yi)\n",
    "    \n",
    "    print(\"a. \\nÁrea estimada elipse MC: \",suma/n*4*a*b)\n",
    "    print(\"b. \\nÁrea real de la elipse: \", areaReal)\n",
    "    print(\"c. \\nDiferencia área real y estimada: \", abs(areaReal-suma/n*4*a*b))\n",
    "    \n",
    "    \n",
    "def graficarPuntos():\n",
    "    print(\"d. \\nGráfica: \")\n",
    "    plt.plot(pDentroX, pDentroY, 'ro')\n",
    "    plt.plot(pFueraX, pFueraY, 'bo')\n",
    "    plt.show()\n",
    "\n",
    "if __name__ == \"__main__\":\n",
    "    areaElipse()\n",
    "    graficarPuntos()"
   ]
  }
 ],
 "metadata": {
  "kernelspec": {
   "display_name": "Python 3",
   "language": "python",
   "name": "python3"
  },
  "language_info": {
   "codemirror_mode": {
    "name": "ipython",
    "version": 3
   },
   "file_extension": ".py",
   "mimetype": "text/x-python",
   "name": "python",
   "nbconvert_exporter": "python",
   "pygments_lexer": "ipython3",
   "version": "3.6.3"
  }
 },
 "nbformat": 4,
 "nbformat_minor": 2
}
