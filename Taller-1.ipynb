{
 "cells": [
  {
   "cell_type": "markdown",
   "metadata": {},
   "source": [
    "Comparación Simulación de Montecarlo y método numérico del Trapecio.\n",
    "A continuación se calculará la siguiente integral definida: $I=\\int_{0}^{2} e^{-x^2}dx$ usando la simulación de Montecarlo. El resultado de esta integral por métodos analíticos es aproximadamente $0.882081$"
   ]
  },
  {
   "cell_type": "code",
   "execution_count": 1,
   "metadata": {},
   "outputs": [
    {
     "name": "stdout",
     "output_type": "stream",
     "text": [
      "Resultado simulación Montecarlo:  0.88361\n"
     ]
    }
   ],
   "source": [
    "#Método Montecarlo\n",
    "from random import random\n",
    "import math\n",
    "def integral():\n",
    "    suma,n,x,y=0,0,0,0\n",
    "    while n<100000:\n",
    "        x=2*random()\n",
    "        y=2*math.exp(-x**2)\n",
    "        suma+=y\n",
    "        n+=1\n",
    "    print(\"Resultado simulación Montecarlo: \",round(suma/n,5))\n",
    "integral()"
   ]
  },
  {
   "cell_type": "markdown",
   "metadata": {},
   "source": [
    "Al tratarse de una simulación usando \"números aleatorios\", los resultados varían cada vez que se ejecuta el código. Sin embargo, el resultado obtenido es cercano al valor real iterando ${n}$ veces."
   ]
  },
  {
   "cell_type": "code",
   "execution_count": 2,
   "metadata": {},
   "outputs": [
    {
     "name": "stdout",
     "output_type": "stream",
     "text": [
      "Resultado método numérico Trapecio:  0.88208\n"
     ]
    }
   ],
   "source": [
    "#Método numérico Trapecio\n",
    "import math\n",
    "def integral():\n",
    "    suma,x,x1,x2,fx2,tria,paso=0,0,0,0,0,0,0.0001\n",
    "    x2=paso\n",
    "    while x2<=2:\n",
    "        fx2=math.exp(-x2**2)\n",
    "        tria=(math.exp(-x1**2)-fx2)*paso/2\n",
    "        suma+=tria+fx2*paso\n",
    "        x1=x2\n",
    "        x2+=paso\n",
    "    print (\"Resultado método numérico Trapecio: \",round(suma,5))\n",
    "integral()"
   ]
  },
  {
   "cell_type": "markdown",
   "metadata": {},
   "source": [
    "Usando el método numérico del trapecio se requieren de menos iteraciones para acercarse al valor real calculado analíticamente, en cambio con el método Montecarlo para obtener un valor cercano al resultado real se debe incrementar ${n}$ lo que implica un mayor tiempo de procesamiento."
   ]
  }
 ],
 "metadata": {
  "kernelspec": {
   "display_name": "Python 3",
   "language": "python",
   "name": "python3"
  },
  "language_info": {
   "codemirror_mode": {
    "name": "ipython",
    "version": 3
   },
   "file_extension": ".py",
   "mimetype": "text/x-python",
   "name": "python",
   "nbconvert_exporter": "python",
   "pygments_lexer": "ipython3",
   "version": "3.6.3"
  }
 },
 "nbformat": 4,
 "nbformat_minor": 2
}
